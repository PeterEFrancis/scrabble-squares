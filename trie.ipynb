{
 "cells": [
  {
   "cell_type": "code",
   "execution_count": 1,
   "metadata": {},
   "outputs": [],
   "source": [
    "from trie import Trie"
   ]
  },
  {
   "cell_type": "code",
   "execution_count": 28,
   "metadata": {},
   "outputs": [],
   "source": [
    "N = 4"
   ]
  },
  {
   "cell_type": "code",
   "execution_count": 29,
   "metadata": {},
   "outputs": [],
   "source": [
    "words = Trie()\n",
    "with open('words.txt') as f:\n",
    "    for line in f.readlines():\n",
    "        word = line.strip()\n",
    "        if len(word) == N:\n",
    "            words.push(word)\n",
    "words_list = list(words.iterate())"
   ]
  },
  {
   "cell_type": "code",
   "execution_count": null,
   "metadata": {},
   "outputs": [],
   "source": [
    "squares = []\n",
    "\n",
    "stack = [[word] for word in words_list]\n",
    "while len(stack) > 0:\n",
    "    square = stack.pop()\n",
    "    if len(square) == N:\n",
    "        squares.append(square)\n",
    "        continue\n",
    "    for word in words_list:\n",
    "        new_square = square.copy()\n",
    "        new_square.append(word)\n",
    "        for i in range(N):\n",
    "            if not words.has(''.join(new_square[j][i] for j in range(len(new_square)))):\n",
    "                break\n",
    "        else:\n",
    "            stack.append(new_square)"
   ]
  },
  {
   "cell_type": "code",
   "execution_count": null,
   "metadata": {},
   "outputs": [],
   "source": [
    "len(squares)"
   ]
  },
  {
   "cell_type": "code",
   "execution_count": 27,
   "metadata": {},
   "outputs": [],
   "source": [
    "with open('4-squares.txt', 'w') as f:\n",
    "    for square in squares:\n",
    "        f.write(str(square))"
   ]
  },
  {
   "cell_type": "code",
   "execution_count": null,
   "metadata": {},
   "outputs": [],
   "source": []
  }
 ],
 "metadata": {
  "kernelspec": {
   "display_name": "Python 3",
   "language": "python",
   "name": "python3"
  },
  "language_info": {
   "codemirror_mode": {
    "name": "ipython",
    "version": 3
   },
   "file_extension": ".py",
   "mimetype": "text/x-python",
   "name": "python",
   "nbconvert_exporter": "python",
   "pygments_lexer": "ipython3",
   "version": "3.7.7"
  }
 },
 "nbformat": 4,
 "nbformat_minor": 4
}
