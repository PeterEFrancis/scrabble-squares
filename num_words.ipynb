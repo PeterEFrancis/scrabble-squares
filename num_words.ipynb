{
 "cells": [
  {
   "cell_type": "code",
   "execution_count": 5,
   "metadata": {},
   "outputs": [
    {
     "name": "stdout",
     "output_type": "stream",
     "text": [
      "2 127\n",
      "3 1348\n",
      "4 5637\n",
      "5 12972\n",
      "6 23033\n",
      "7 34342\n",
      "8 42150\n",
      "9 42933\n",
      "10 37235\n",
      "11 29027\n",
      "12 21025\n",
      "13 14345\n",
      "14 9397\n",
      "15 5925\n"
     ]
    }
   ],
   "source": [
    "nums = [0] * 15\n",
    "with open('words.txt') as f:\n",
    "    for word in f.readlines():\n",
    "        nums[len(word) - 2] += 1\n",
    "for i in range(1, len(nums)):\n",
    "    print(i + 1, nums[i])"
   ]
  },
  {
   "cell_type": "code",
   "execution_count": 9,
   "metadata": {},
   "outputs": [
    {
     "data": {
      "text/plain": [
       "279496"
      ]
     },
     "execution_count": 9,
     "metadata": {},
     "output_type": "execute_result"
    }
   ],
   "source": [
    "sum(nums)"
   ]
  },
  {
   "cell_type": "code",
   "execution_count": null,
   "metadata": {},
   "outputs": [],
   "source": []
  }
 ],
 "metadata": {
  "kernelspec": {
   "display_name": "Python 3",
   "language": "python",
   "name": "python3"
  },
  "language_info": {
   "codemirror_mode": {
    "name": "ipython",
    "version": 3
   },
   "file_extension": ".py",
   "mimetype": "text/x-python",
   "name": "python",
   "nbconvert_exporter": "python",
   "pygments_lexer": "ipython3",
   "version": "3.7.7"
  }
 },
 "nbformat": 4,
 "nbformat_minor": 4
}
