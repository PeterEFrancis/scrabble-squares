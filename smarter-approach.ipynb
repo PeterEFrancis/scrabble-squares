{
 "cells": [
  {
   "cell_type": "code",
   "execution_count": 1,
   "metadata": {},
   "outputs": [],
   "source": [
    "from trie import Trie"
   ]
  },
  {
   "cell_type": "code",
   "execution_count": 57,
   "metadata": {},
   "outputs": [],
   "source": [
    "N = 4"
   ]
  },
  {
   "cell_type": "code",
   "execution_count": 58,
   "metadata": {},
   "outputs": [],
   "source": [
    "words = Trie()\n",
    "with open('words.txt') as f:\n",
    "    for line in f.readlines():\n",
    "        word = line.strip()\n",
    "        if len(word) == N:\n",
    "            words.push(word)\n",
    "words_list = list(words.iterate())"
   ]
  },
  {
   "cell_type": "code",
   "execution_count": null,
   "metadata": {},
   "outputs": [],
   "source": [
    "squares = []\n",
    "\n",
    "stack = [([word], 1, 0) for word in words_list]\n",
    "while len(stack) > 0:\n",
    "    square, r, c = stack.pop()\n",
    "    if r == N and c == 0:\n",
    "        squares.append(square)\n",
    "        continue\n",
    "    if c == 0:\n",
    "        square.append('')\n",
    "    col = \"\".join(square[i][c] for i in range(r))\n",
    "    row = \"\".join(square[r][i] for i in range(c))\n",
    "    possible_letters = set(words.after(row)).intersection(words.after(col))\n",
    "    if c == N - 1:\n",
    "        c_ = 0\n",
    "        r_ = r + 1\n",
    "    else:\n",
    "        c_ = c + 1\n",
    "        r_ = r\n",
    "    for letter in possible_letters:\n",
    "        new_square = square.copy()\n",
    "        new_square[r] += letter\n",
    "        \n",
    "        stack.append((new_square, r_, c_))"
   ]
  },
  {
   "cell_type": "code",
   "execution_count": null,
   "metadata": {},
   "outputs": [],
   "source": [
    "len(squares)"
   ]
  },
  {
   "cell_type": "code",
   "execution_count": null,
   "metadata": {},
   "outputs": [],
   "source": [
    "import datetime\n",
    "datetime.datetime.now()"
   ]
  },
  {
   "cell_type": "code",
   "execution_count": null,
   "metadata": {},
   "outputs": [],
   "source": []
  }
 ],
 "metadata": {
  "kernelspec": {
   "display_name": "Python 3",
   "language": "python",
   "name": "python3"
  },
  "language_info": {
   "codemirror_mode": {
    "name": "ipython",
    "version": 3
   },
   "file_extension": ".py",
   "mimetype": "text/x-python",
   "name": "python",
   "nbconvert_exporter": "python",
   "pygments_lexer": "ipython3",
   "version": "3.7.7"
  }
 },
 "nbformat": 4,
 "nbformat_minor": 4
}
